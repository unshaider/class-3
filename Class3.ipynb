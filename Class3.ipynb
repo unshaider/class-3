{
  "cells": [
    {
      "cell_type": "markdown",
      "metadata": {
        "id": "view-in-github",
        "colab_type": "text"
      },
      "source": [
        "<a href=\"https://colab.research.google.com/github/unshaider/class-3/blob/main/Class3.ipynb\" target=\"_parent\"><img src=\"https://colab.research.google.com/assets/colab-badge.svg\" alt=\"Open In Colab\"/></a>"
      ]
    },
    {
      "cell_type": "code",
      "execution_count": null,
      "metadata": {
        "colab": {
          "background_save": true,
          "base_uri": "https://localhost:8080/"
        },
        "id": "HFb3Lsd9HkdB",
        "outputId": "5469fbcb-66f3-40cb-9df2-e46035614b31"
      },
      "outputs": [
        {
          "name": "stdout",
          "output_type": "stream",
          "text": [
            "ID card created successfully: id_card.png\n"
          ]
        },
        {
          "data": {
            "application/javascript": [
              "\n",
              "    async function download(id, filename, size) {\n",
              "      if (!google.colab.kernel.accessAllowed) {\n",
              "        return;\n",
              "      }\n",
              "      const div = document.createElement('div');\n",
              "      const label = document.createElement('label');\n",
              "      label.textContent = `Downloading \"${filename}\": `;\n",
              "      div.appendChild(label);\n",
              "      const progress = document.createElement('progress');\n",
              "      progress.max = size;\n",
              "      div.appendChild(progress);\n",
              "      document.body.appendChild(div);\n",
              "\n",
              "      const buffers = [];\n",
              "      let downloaded = 0;\n",
              "\n",
              "      const channel = await google.colab.kernel.comms.open(id);\n",
              "      // Send a message to notify the kernel that we're ready.\n",
              "      channel.send({})\n",
              "\n",
              "      for await (const message of channel.messages) {\n",
              "        // Send a message to notify the kernel that we're ready.\n",
              "        channel.send({})\n",
              "        if (message.buffers) {\n",
              "          for (const buffer of message.buffers) {\n",
              "            buffers.push(buffer);\n",
              "            downloaded += buffer.byteLength;\n",
              "            progress.value = downloaded;\n",
              "          }\n",
              "        }\n",
              "      }\n",
              "      const blob = new Blob(buffers, {type: 'application/binary'});\n",
              "      const a = document.createElement('a');\n",
              "      a.href = window.URL.createObjectURL(blob);\n",
              "      a.download = filename;\n",
              "      div.appendChild(a);\n",
              "      a.click();\n",
              "      div.remove();\n",
              "    }\n",
              "  "
            ],
            "text/plain": [
              "<IPython.core.display.Javascript object>"
            ]
          },
          "metadata": {},
          "output_type": "display_data"
        },
        {
          "data": {
            "application/javascript": [
              "download(\"download_fe20116b-6bc9-4d5f-ad42-bbabddd75258\", \"id_card.png\", 61276)"
            ],
            "text/plain": [
              "<IPython.core.display.Javascript object>"
            ]
          },
          "metadata": {},
          "output_type": "display_data"
        }
      ],
      "source": [
        "# prompt: this is the url of my picture \"/content/Untitled design (1).png\" using this picture generate id card in this id card picture is in right and name, roll no, city, center , campus, day/time and batch in left\n",
        "\n",
        "from PIL import Image, ImageDraw, ImageFont\n",
        "\n",
        "def generate_id_card(image_path, name, roll_no, city, center, campus, day_time, batch):\n",
        "    try:\n",
        "        # Load the image\n",
        "        img = Image.open(image_path)\n",
        "        img = img.resize((200, 200)) # Resize the image as needed\n",
        "\n",
        "        # Create a new image with a white background\n",
        "        id_card = Image.new('RGB', (600, 300), color='white')\n",
        "\n",
        "        # Paste the image onto the ID card\n",
        "        id_card.paste(img, (400, 50))\n",
        "\n",
        "        # Use a truetype font (make sure you have a font file)\n",
        "        font = ImageFont.truetype(\"/usr/share/fonts/truetype/liberation/LiberationSans-Regular.ttf\", 20)  # Replace with your font path\n",
        "        draw = ImageDraw.Draw(id_card)\n",
        "\n",
        "        # Define the text positions and properties\n",
        "        text_positions = {\n",
        "            \"Name\": (50, 50),\n",
        "            \"Roll No\": (50, 80),\n",
        "            \"City\": (50, 110),\n",
        "            \"Center\": (50, 140),\n",
        "            \"Campus\": (50, 170),\n",
        "            \"Day/Time\": (50, 200),\n",
        "            \"Batch\": (50, 230)\n",
        "        }\n",
        "\n",
        "        # Add text to the ID card\n",
        "        draw.text(text_positions[\"Name\"], f\"Name: {name}\", font=font, fill='black')\n",
        "        draw.text(text_positions[\"Roll No\"], f\"Roll No: {roll_no}\", font=font, fill='black')\n",
        "        draw.text(text_positions[\"City\"], f\"City: {city}\", font=font, fill='black')\n",
        "        draw.text(text_positions[\"Center\"], f\"Center: {center}\", font=font, fill='black')\n",
        "        draw.text(text_positions[\"Campus\"], f\"Campus: {campus}\", font=font, fill='black')\n",
        "        draw.text(text_positions[\"Day/Time\"], f\"Day/Time: {day_time}\", font=font, fill='black')\n",
        "        draw.text(text_positions[\"Batch\"], f\"Batch: {batch}\", font=font, fill='black')\n",
        "\n",
        "        # Save the ID card\n",
        "        id_card.save(\"id_card.png\")\n",
        "        print(\"ID card generated successfully!\")\n",
        "\n",
        "    except FileNotFoundError:\n",
        "        print(f\"Error: Image file not found at {image_path}\")\n",
        "    except Exception as e:\n",
        "        print(f\"An error occurred: {e}\")\n",
        "\n",
        "\n",
        "# Example usage\n",
        "image_path = \"/content/Untitled design (1).png\"  # Replace with your image path\n",
        "generate_id_card(image_path, \"Syed Uns Haider Zaidi\", \"PIAIC245883\", \"Karachi\", \"Sindh Boy Scout Association\", \"Main Campus\", \"Saturday 02:00 to 6:00PM\", \"Batch 64\")"
      ]
    },
    {
      "cell_type": "markdown",
      "metadata": {
        "id": "zbTdJk6Fx2zo"
      },
      "source": [
        "#**Pakistan**\n",
        "1.   **Sindh**\n",
        "  - Karachi\n",
        "  - Larkana\n",
        "2.   **Punjab**\n",
        "  - Lahore\n",
        "  - Islamabad\n",
        "3.   **Balochistan**\n",
        "  - Quetta\n",
        "  - Sibbi\n",
        "4.   **KPK**\n",
        "  - Peshawar\n",
        "5.   **Gilgit Baltistan**\n",
        "  - Gilgit\n"
      ]
    }
  ],
  "metadata": {
    "accelerator": "GPU",
    "colab": {
      "gpuType": "T4",
      "provenance": [],
      "authorship_tag": "ABX9TyOi/SMRjmR5bP4zEFKZ17ga",
      "include_colab_link": true
    },
    "kernelspec": {
      "display_name": "Python 3",
      "name": "python3"
    },
    "language_info": {
      "name": "python"
    }
  },
  "nbformat": 4,
  "nbformat_minor": 0
}